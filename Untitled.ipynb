{
 "cells": [
  {
   "cell_type": "code",
   "execution_count": 1,
   "id": "2a7d776b-5b57-4c6b-800d-d78871a59af6",
   "metadata": {},
   "outputs": [
    {
     "name": "stdout",
     "output_type": "stream",
     "text": [
      "Original DataFrame:\n",
      "   A   B    C\n",
      "0  1  10  100\n",
      "1  2  20  200\n",
      "2  3  30  300\n",
      "3  4  40  400\n",
      "4  5  50  500\n"
     ]
    }
   ],
   "source": [
    "import pandas as pd\n",
    "import numpy as np\n",
    "\n",
    "# 예제 데이터 생성\n",
    "data = {'A': [1, 2, 3, 4, 5],\n",
    "        'B': [10, 20, 30, 40, 50],\n",
    "        'C': [100, 200, 300, 400, 500]}\n",
    "\n",
    "df = pd.DataFrame(data)\n",
    "print(\"Original DataFrame:\")\n",
    "print(df)"
   ]
  },
  {
   "cell_type": "code",
   "execution_count": 4,
   "id": "40b75657-2d38-43ef-a7a1-0f2f10d8f0ba",
   "metadata": {},
   "outputs": [],
   "source": [
    "from sklearn.preprocessing import MinMaxScaler"
   ]
  },
  {
   "cell_type": "code",
   "execution_count": 5,
   "id": "576da425-3109-4839-a5af-10ab379a8648",
   "metadata": {},
   "outputs": [
    {
     "name": "stdout",
     "output_type": "stream",
     "text": [
      "\n",
      "Min-Max Normalized DataFrame:\n",
      "      A     B     C\n",
      "0  0.00  0.00  0.00\n",
      "1  0.25  0.25  0.25\n",
      "2  0.50  0.50  0.50\n",
      "3  0.75  0.75  0.75\n",
      "4  1.00  1.00  1.00\n"
     ]
    }
   ],
   "source": [
    "# Min-Max 스케일러 객체 생성\n",
    "scaler = MinMaxScaler()\n",
    "\n",
    "# 데이터프레임 정규화\n",
    "df_minmax = pd.DataFrame(scaler.fit_transform(df), columns=df.columns)\n",
    "print(\"\\nMin-Max Normalized DataFrame:\")\n",
    "print(df_minmax)"
   ]
  },
  {
   "cell_type": "code",
   "execution_count": null,
   "id": "e7c48265-ab74-4924-8e78-588ea435af8c",
   "metadata": {},
   "outputs": [],
   "source": []
  }
 ],
 "metadata": {
  "jupytext": {
   "formats": "ipynb,auto:light"
  },
  "kernelspec": {
   "display_name": "Python 3 (ipykernel)",
   "language": "python",
   "name": "python3"
  },
  "language_info": {
   "codemirror_mode": {
    "name": "ipython",
    "version": 3
   },
   "file_extension": ".py",
   "mimetype": "text/x-python",
   "name": "python",
   "nbconvert_exporter": "python",
   "pygments_lexer": "ipython3",
   "version": "3.10.8"
  }
 },
 "nbformat": 4,
 "nbformat_minor": 5
}
