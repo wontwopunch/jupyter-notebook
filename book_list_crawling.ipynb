{
 "cells": [
  {
   "cell_type": "code",
   "execution_count": 1,
   "id": "d2d6c5f7",
   "metadata": {},
   "outputs": [],
   "source": [
    "from bs4 import BeautifulSoup as bs\n",
    "import requests\n",
    "\n",
    "crawling_url = 'http://www.hanbit.co.kr/store/books/full_book_list.html'\n",
    "response = requests.get(crawling_url)\n",
    "text = response.text"
   ]
  },
  {
   "cell_type": "code",
   "execution_count": 9,
   "id": "bef9a8fe",
   "metadata": {},
   "outputs": [],
   "source": [
    "soup = bs(text, 'html.parser')\n",
    "\n",
    "items = soup.find_all('tr')"
   ]
  },
  {
   "cell_type": "code",
   "execution_count": 33,
   "id": "e5cbf9fd",
   "metadata": {},
   "outputs": [
    {
     "name": "stdout",
     "output_type": "stream",
     "text": [
      "50 50 50 50 50 50\n"
     ]
    }
   ],
   "source": [
    "# 데이터 추출\n",
    "# url, title, author, date, brand, price 저장할 리스트 초기화\n",
    "urls = []\n",
    "titles = []\n",
    "authors = []\n",
    "dates = []\n",
    "brands = []\n",
    "prices = []\n",
    "\n",
    "for item in items:\n",
    "    # print(item)\n",
    "    # url 추출 → a\n",
    "    # 나머지 정보 추출 → td\n",
    "    it1 = item.find_all('a')\n",
    "    it2 = item.find_all('td')\n",
    "    # print(it1)\n",
    "    # url 추출\n",
    "    for i1 in it1 :\n",
    "        # href로 시작하는 요소를 추출\n",
    "        url = i1.get('href')\n",
    "        if (url==None):\n",
    "            continue\n",
    "        url = \"https://www.hanbit.co.kr\" + url\n",
    "        # print(url)\n",
    "        urls.append(url)\n",
    "    if (url==None):\n",
    "        continue\n",
    "    # 나머지 추출\n",
    "    #print(it2[1].string)\n",
    "    brands.append(it2[0].string)\n",
    "    titles.append(it2[1].string)\n",
    "    authors.append(it2[2].string)\n",
    "    dates.append(it2[3].string)\n",
    "    prices.append(it2[4].string)\n",
    "    \n",
    "print(len(urls), len(brands), len(titles),len(authors), len(dates), len(prices))"
   ]
  },
  {
   "cell_type": "code",
   "execution_count": 34,
   "id": "ea91fcdc",
   "metadata": {},
   "outputs": [],
   "source": [
    "# pandas에 저장\n",
    "import numpy as np\n",
    "import pandas as pd\n",
    "\n",
    "df = pd.DataFrame(\n",
    "    {\n",
    "        \"URL\" : urls,\n",
    "        \"BRAND\" : brands,\n",
    "        \"TITLE\" : titles,\n",
    "        \"AUTHOR\" :authors,\n",
    "        \"DATE\" : dates,\n",
    "        \"PRICE\" : prices\n",
    "    }\n",
    ")"
   ]
  },
  {
   "cell_type": "code",
   "execution_count": 35,
   "id": "7873f45b",
   "metadata": {},
   "outputs": [
    {
     "data": {
      "text/html": [
       "<div>\n",
       "<style scoped>\n",
       "    .dataframe tbody tr th:only-of-type {\n",
       "        vertical-align: middle;\n",
       "    }\n",
       "\n",
       "    .dataframe tbody tr th {\n",
       "        vertical-align: top;\n",
       "    }\n",
       "\n",
       "    .dataframe thead th {\n",
       "        text-align: right;\n",
       "    }\n",
       "</style>\n",
       "<table border=\"1\" class=\"dataframe\">\n",
       "  <thead>\n",
       "    <tr style=\"text-align: right;\">\n",
       "      <th></th>\n",
       "      <th>URL</th>\n",
       "      <th>BRAND</th>\n",
       "      <th>TITLE</th>\n",
       "      <th>AUTHOR</th>\n",
       "      <th>DATE</th>\n",
       "      <th>PRICE</th>\n",
       "    </tr>\n",
       "  </thead>\n",
       "  <tbody>\n",
       "    <tr>\n",
       "      <th>0</th>\n",
       "      <td>https://www.hanbit.co.kr/store/books/look.php?...</td>\n",
       "      <td>한빛비즈</td>\n",
       "      <td>주택청약의 모든 것(2024~2025년 전면 개정판)</td>\n",
       "      <td>한국부동산원</td>\n",
       "      <td>2024-07-29</td>\n",
       "      <td>18,000원</td>\n",
       "    </tr>\n",
       "    <tr>\n",
       "      <th>1</th>\n",
       "      <td>https://www.hanbit.co.kr/store/books/look.php?...</td>\n",
       "      <td>한빛라이프</td>\n",
       "      <td>리얼 방콕 [2024~2025년 최신판]</td>\n",
       "      <td>배나영</td>\n",
       "      <td>2024-07-23</td>\n",
       "      <td>19,000원</td>\n",
       "    </tr>\n",
       "    <tr>\n",
       "      <th>2</th>\n",
       "      <td>https://www.hanbit.co.kr/store/books/look.php?...</td>\n",
       "      <td>한빛미디어</td>\n",
       "      <td>NGINX 쿡북(3판)</td>\n",
       "      <td>데릭 디용기</td>\n",
       "      <td>2024-07-22</td>\n",
       "      <td>22,000원</td>\n",
       "    </tr>\n",
       "    <tr>\n",
       "      <th>3</th>\n",
       "      <td>https://www.hanbit.co.kr/store/books/look.php?...</td>\n",
       "      <td>한빛라이프</td>\n",
       "      <td>리얼 파리 [2024~2025]</td>\n",
       "      <td>황현희</td>\n",
       "      <td>2024-07-22</td>\n",
       "      <td>19,000원</td>\n",
       "    </tr>\n",
       "    <tr>\n",
       "      <th>4</th>\n",
       "      <td>https://www.hanbit.co.kr/store/books/look.php?...</td>\n",
       "      <td>한빛미디어</td>\n",
       "      <td>월 20달러로 고용하는 AI 변호사 with 챗GPT</td>\n",
       "      <td>김덕은</td>\n",
       "      <td>2024-07-22</td>\n",
       "      <td>22,000원</td>\n",
       "    </tr>\n",
       "  </tbody>\n",
       "</table>\n",
       "</div>"
      ],
      "text/plain": [
       "                                                 URL  BRAND  \\\n",
       "0  https://www.hanbit.co.kr/store/books/look.php?...   한빛비즈   \n",
       "1  https://www.hanbit.co.kr/store/books/look.php?...  한빛라이프   \n",
       "2  https://www.hanbit.co.kr/store/books/look.php?...  한빛미디어   \n",
       "3  https://www.hanbit.co.kr/store/books/look.php?...  한빛라이프   \n",
       "4  https://www.hanbit.co.kr/store/books/look.php?...  한빛미디어   \n",
       "\n",
       "                           TITLE     AUTHOR        DATE    PRICE  \n",
       "0  주택청약의 모든 것(2024~2025년 전면 개정판)  한국부동산원     2024-07-29  18,000원  \n",
       "1         리얼 방콕 [2024~2025년 최신판]     배나영     2024-07-23  19,000원  \n",
       "2                   NGINX 쿡북(3판)  데릭 디용기     2024-07-22  22,000원  \n",
       "3              리얼 파리 [2024~2025]     황현희     2024-07-22  19,000원  \n",
       "4  월 20달러로 고용하는 AI 변호사 with 챗GPT     김덕은     2024-07-22  22,000원  "
      ]
     },
     "execution_count": 35,
     "metadata": {},
     "output_type": "execute_result"
    }
   ],
   "source": [
    "df.head()"
   ]
  },
  {
   "cell_type": "code",
   "execution_count": null,
   "id": "f3cc1f8a",
   "metadata": {},
   "outputs": [],
   "source": []
  }
 ],
 "metadata": {
  "kernelspec": {
   "display_name": "Python 3 (ipykernel)",
   "language": "python",
   "name": "python3"
  },
  "language_info": {
   "codemirror_mode": {
    "name": "ipython",
    "version": 3
   },
   "file_extension": ".py",
   "mimetype": "text/x-python",
   "name": "python",
   "nbconvert_exporter": "python",
   "pygments_lexer": "ipython3",
   "version": "3.11.5"
  }
 },
 "nbformat": 4,
 "nbformat_minor": 5
}
