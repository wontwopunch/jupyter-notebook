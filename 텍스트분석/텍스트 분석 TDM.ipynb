{
 "cells": [
  {
   "cell_type": "code",
   "execution_count": 2,
   "id": "790c3628",
   "metadata": {},
   "outputs": [
    {
     "name": "stdout",
     "output_type": "stream",
     "text": [
      "Requirement already satisfied: JPype1 in c:\\users\\jiwon\\anaconda3\\lib\\site-packages (1.5.0)\n",
      "Requirement already satisfied: packaging in c:\\users\\jiwon\\anaconda3\\lib\\site-packages (from JPype1) (23.1)\n"
     ]
    }
   ],
   "source": [
    "!pip install JPype1"
   ]
  },
  {
   "cell_type": "code",
   "execution_count": 5,
   "id": "1e963d23",
   "metadata": {},
   "outputs": [
    {
     "name": "stdout",
     "output_type": "stream",
     "text": [
      "Requirement already satisfied: konlpy in c:\\users\\jiwon\\anaconda3\\lib\\site-packages (0.6.0)\n",
      "Requirement already satisfied: JPype1>=0.7.0 in c:\\users\\jiwon\\anaconda3\\lib\\site-packages (from konlpy) (1.5.0)\n",
      "Requirement already satisfied: lxml>=4.1.0 in c:\\users\\jiwon\\anaconda3\\lib\\site-packages (from konlpy) (4.9.3)\n",
      "Requirement already satisfied: numpy>=1.6 in c:\\users\\jiwon\\anaconda3\\lib\\site-packages (from konlpy) (1.24.3)\n",
      "Requirement already satisfied: packaging in c:\\users\\jiwon\\anaconda3\\lib\\site-packages (from JPype1>=0.7.0->konlpy) (23.1)\n"
     ]
    }
   ],
   "source": [
    "!pip install konlpy"
   ]
  },
  {
   "cell_type": "code",
   "execution_count": 7,
   "id": "2ec70c49",
   "metadata": {},
   "outputs": [],
   "source": [
    "import konlpy"
   ]
  },
  {
   "cell_type": "code",
   "execution_count": 10,
   "id": "46729624",
   "metadata": {},
   "outputs": [
    {
     "data": {
      "text/plain": [
       "[('아버지', 'Noun'),\n",
       " ('가', 'Josa'),\n",
       " ('가방', 'Noun'),\n",
       " ('에', 'Josa'),\n",
       " ('들어가신다', 'Verb')]"
      ]
     },
     "execution_count": 10,
     "metadata": {},
     "output_type": "execute_result"
    }
   ],
   "source": [
    "from konlpy.tag import Okt\n",
    "tagger = Okt() # Twitter 대신 Okt 클래스 사용\n",
    "tagger.pos('아버지가가방에들어가신다')"
   ]
  },
  {
   "cell_type": "code",
   "execution_count": 12,
   "id": "17ac7ece",
   "metadata": {},
   "outputs": [
    {
     "data": {
      "text/plain": [
       "['아버지', '가', '가방', '에', '들어가신다']"
      ]
     },
     "execution_count": 12,
     "metadata": {},
     "output_type": "execute_result"
    }
   ],
   "source": [
    "tagger = Okt()\n",
    "tagger.morphs('아버지가가방에들어가신다')"
   ]
  },
  {
   "cell_type": "code",
   "execution_count": 15,
   "id": "891d7e53",
   "metadata": {},
   "outputs": [
    {
     "data": {
      "text/plain": [
       "['아버지', '가방']"
      ]
     },
     "execution_count": 15,
     "metadata": {},
     "output_type": "execute_result"
    }
   ],
   "source": [
    "tagger = Okt()\n",
    "tagger.nouns('아버지가가방에들어가신다')"
   ]
  },
  {
   "cell_type": "code",
   "execution_count": 18,
   "id": "b4caa726",
   "metadata": {},
   "outputs": [],
   "source": [
    "import pandas as pd\n",
    "\n",
    "# 뉴스 기사 TDM\n",
    "df = pd.read_csv('한국방송통신전파진흥원_전파누리_최신뉴스_20230725.csv',\n",
    "encoding='cp949',\n",
    "engine='python')"
   ]
  },
  {
   "cell_type": "code",
   "execution_count": 21,
   "id": "c0bf24c7",
   "metadata": {},
   "outputs": [
    {
     "data": {
      "text/plain": [
       "(1399, 4)"
      ]
     },
     "execution_count": 21,
     "metadata": {},
     "output_type": "execute_result"
    }
   ],
   "source": [
    "df.shape # 데이터 구성 확인"
   ]
  },
  {
   "cell_type": "code",
   "execution_count": 23,
   "id": "2496249d",
   "metadata": {},
   "outputs": [
    {
     "data": {
      "text/plain": [
       "Index(['제목', '내용', '조회수', '출저'], dtype='object')"
      ]
     },
     "execution_count": 23,
     "metadata": {},
     "output_type": "execute_result"
    }
   ],
   "source": [
    "df.columns #칼럼 구성 확인"
   ]
  },
  {
   "cell_type": "code",
   "execution_count": 26,
   "id": "1d380efe",
   "metadata": {},
   "outputs": [
    {
     "data": {
      "text/plain": [
       "0    <p><span>한국나노기술원(원장 서광석)은 국방&middot;의료&middot;...\n",
       "1    <p><span>광주정보문화산업진흥원 컨소시엄은 의료&middot;헬스케어 AI융합...\n",
       "2    <p><span>유영상 SK텔레콤 대표&middot;구현모 KT 대표&middot;...\n",
       "3    <p><span>과학기술정보통신부와 정보통신산업진흥원(NIPA)이 주관하는 '인공지...\n",
       "4    <p><span>과학기술정보통신부와 정보통신산업진흥원(NIPA)이 주관하는 'AI융...\n",
       "Name: 내용, dtype: object"
      ]
     },
     "execution_count": 26,
     "metadata": {},
     "output_type": "execute_result"
    }
   ],
   "source": [
    "df['내용'].head() # 데이터 샘플 보기"
   ]
  },
  {
   "cell_type": "code",
   "execution_count": 29,
   "id": "fcb3a479",
   "metadata": {},
   "outputs": [],
   "source": [
    "from konlpy.tag import Komoran  # 형태소 분석기 불러오기\n",
    "tagger = Komoran()  # Komoran 형태소 분석기를 불러 tagger에 저장\n",
    "\n",
    "def get_nouns(text):\n",
    "    nouns = tagger.nouns(text)  # 형태소 분석기로 명사 추출\n",
    "    nouns = [word for word in nouns if len(word) > 1]  # 한 글자 명사 제거\n",
    "    return nouns"
   ]
  },
  {
   "cell_type": "code",
   "execution_count": 34,
   "id": "f11650c7",
   "metadata": {},
   "outputs": [],
   "source": [
    "from sklearn.feature_extraction.text import CountVectorizer\n",
    "cv = CountVectorizer(max_features=1000, tokenizer=get_nouns)"
   ]
  },
  {
   "cell_type": "code",
   "execution_count": 37,
   "id": "6d6e8520",
   "metadata": {},
   "outputs": [
    {
     "data": {
      "text/plain": [
       "array(['.com', '10대', '10월', '11월', '12월', '17', '19', '1월', '2019년',\n",
       "       '2021년'], dtype=object)"
      ]
     },
     "execution_count": 37,
     "metadata": {},
     "output_type": "execute_result"
    }
   ],
   "source": [
    "tdm = cv.fit_transform(df['내용'])\n",
    "cv.get_feature_names_out()[:10]  # 첫 10 단어"
   ]
  },
  {
   "cell_type": "code",
   "execution_count": 41,
   "id": "cceea393",
   "metadata": {},
   "outputs": [
    {
     "name": "stdout",
     "output_type": "stream",
     "text": [
      "구축 1\n",
      "국방 1\n",
      "국산 1\n",
      "반도체 1\n",
      "소재 1\n",
      "양자 1\n",
      "원장 1\n",
      "의료 1\n",
      "통신 1\n",
      "플랫폼 1\n",
      "한국 1\n",
      "활용 1\n",
      "구축 0.17306621812525108\n",
      "국방 0.3551210310603936\n",
      "국산 0.31944528622744156\n",
      "반도체 0.3551210310603936\n",
      "소재 0.36556679848655604\n",
      "양자 0.2931921381374358\n",
      "원장 0.35048711478649247\n",
      "의료 0.32818449633429586\n",
      "통신 0.0991047166686797\n",
      "플랫폼 0.27215277991885245\n",
      "한국 0.22509510104805375\n",
      "활용 0.1762873210468014\n"
     ]
    }
   ],
   "source": [
    "from sklearn.feature_extraction.text import TfidfTransformer\n",
    "\n",
    "# TF-IDF 변환기 초기화\n",
    "tfidf = TfidfTransformer()\n",
    "\n",
    "# TDM에 TF-IDF 적용\n",
    "tdm2 = tfidf.fit_transform(tdm)\n",
    "\n",
    "# 단어 목록 추출\n",
    "words = cv.get_feature_names_out()\n",
    "\n",
    "# 원래 TDM에서 각 단어와 빈도 출력\n",
    "for i, n in sorted(zip(tdm[0].indices, tdm[0].data)):\n",
    "    print(words[i], n)\n",
    "\n",
    "# TF-IDF 변환된 TDM에서 각 단어와 가중치 출력\n",
    "for i, n in sorted(zip(tdm2[0].indices, tdm2[0].data)):\n",
    "    print(words[i], n)"
   ]
  },
  {
   "cell_type": "code",
   "execution_count": 43,
   "id": "e90dce8a",
   "metadata": {},
   "outputs": [],
   "source": [
    "import joblib  # joblib을 직접 임포트\n",
    "\n",
    "# 데이터 저장\n",
    "with open('ai_news.pkl', 'wb') as f:\n",
    "    joblib.dump({'vectorizer': cv, 'tdm': tdm}, f)  # 들여쓰기 추가"
   ]
  }
 ],
 "metadata": {
  "kernelspec": {
   "display_name": "Python 3 (ipykernel)",
   "language": "python",
   "name": "python3"
  },
  "language_info": {
   "codemirror_mode": {
    "name": "ipython",
    "version": 3
   },
   "file_extension": ".py",
   "mimetype": "text/x-python",
   "name": "python",
   "nbconvert_exporter": "python",
   "pygments_lexer": "ipython3",
   "version": "3.11.5"
  }
 },
 "nbformat": 4,
 "nbformat_minor": 5
}
