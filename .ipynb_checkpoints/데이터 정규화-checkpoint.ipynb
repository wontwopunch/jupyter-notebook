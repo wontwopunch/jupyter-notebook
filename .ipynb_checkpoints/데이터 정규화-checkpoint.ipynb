{
 "cells": [
  {
   "cell_type": "code",
   "execution_count": 1,
   "id": "2a7d776b-5b57-4c6b-800d-d78871a59af6",
   "metadata": {},
   "outputs": [
    {
     "name": "stdout",
     "output_type": "stream",
     "text": [
      "Original DataFrame:\n",
      "   A   B    C\n",
      "0  1  10  100\n",
      "1  2  20  200\n",
      "2  3  30  300\n",
      "3  4  40  400\n",
      "4  5  50  500\n"
     ]
    }
   ],
   "source": [
    "import pandas as pd\n",
    "import numpy as np\n",
    "\n",
    "# 예제 데이터 생성\n",
    "data = {'A': [1, 2, 3, 4, 5],\n",
    "        'B': [10, 20, 30, 40, 50],\n",
    "        'C': [100, 200, 300, 400, 500]}\n",
    "\n",
    "df = pd.DataFrame(data)\n",
    "print(\"Original DataFrame:\")\n",
    "print(df)"
   ]
  },
  {
   "cell_type": "code",
   "execution_count": 4,
   "id": "40b75657-2d38-43ef-a7a1-0f2f10d8f0ba",
   "metadata": {},
   "outputs": [],
   "source": [
    "from sklearn.preprocessing import MinMaxScaler"
   ]
  },
  {
   "cell_type": "code",
   "execution_count": 9,
   "id": "576da425-3109-4839-a5af-10ab379a8648",
   "metadata": {},
   "outputs": [
    {
     "name": "stdout",
     "output_type": "stream",
     "text": [
      "\n",
      "Min-Max Normalized DataFrame:\n",
      "      A     B     C\n",
      "0  0.00  0.00  0.00\n",
      "1  0.25  0.25  0.25\n",
      "2  0.50  0.50  0.50\n",
      "3  0.75  0.75  0.75\n",
      "4  1.00  1.00  1.00\n"
     ]
    }
   ],
   "source": [
    "# Min-Max 스케일러 객체 생성\n",
    "scaler = MinMaxScaler()\n",
    "\n",
    "# 데이터프레임 정규화\n",
    "df_minmax = pd.DataFrame(scaler.fit_transform(df), columns=df.columns)\n",
    "# fit: 데이터의 최소값과 최대값을 계산, 이 단계에서 스케일러는 데이터의 통계를 학습\n",
    "# transform: 데이터를 0과 1사이의 값으로 변환. 이 값은 'fit'에서 학습된 최소값과 최대값을 사용\n",
    "# scaler.fit_transform(df)는 numpy 배열을 반환. 이 배열을 pandas DataFrame으로 변환하기 위해 pd.DataFrame 생성자 사용\n",
    "# columns=df.colunms: 원본 데이터 프레임 'df'의 열 이름을 사용하여 새로운 데이터 프레임의 열 이름을 동일하게 유지\n",
    "print(\"\\nMin-Max Normalized DataFrame:\")\n",
    "print(df_minmax)"
   ]
  },
  {
   "cell_type": "code",
   "execution_count": 6,
   "id": "e7c48265-ab74-4924-8e78-588ea435af8c",
   "metadata": {},
   "outputs": [],
   "source": [
    "from sklearn.preprocessing import StandardScaler"
   ]
  },
  {
   "cell_type": "code",
   "execution_count": 10,
   "id": "6758d355-2bc0-4d1b-abf3-4fa2a5ca023b",
   "metadata": {},
   "outputs": [
    {
     "name": "stdout",
     "output_type": "stream",
     "text": [
      "\n",
      "Z-score Normalized DataFrame:\n",
      "          A         B         C\n",
      "0 -1.414214 -1.414214 -1.414214\n",
      "1 -0.707107 -0.707107 -0.707107\n",
      "2  0.000000  0.000000  0.000000\n",
      "3  0.707107  0.707107  0.707107\n",
      "4  1.414214  1.414214  1.414214\n"
     ]
    }
   ],
   "source": [
    "# Standard 스케일러 객체 생성\n",
    "scaler = StandardScaler()\n",
    "\n",
    "# 데이터프레임 정규화\n",
    "df_standard = pd.DataFrame(scaler.fit_transform(df), columns=df.columns)\n",
    "# fit: 각 피처의 평균과 표준편차를 계산, 이 단계에서 스케일러는 데이터의 통계를 학습\n",
    "# transform: 데이터의 평균을 0, 표준편차를 1. 이 값은 'fit'에서 학습된 평균과 표준편차를 사용\n",
    "print(\"\\nZ-score Normalized DataFrame:\")\n",
    "print(df_standard)"
   ]
  },
  {
   "cell_type": "code",
   "execution_count": null,
   "id": "0a47d79e-587f-49dc-9f3e-22e7d44ff7f1",
   "metadata": {},
   "outputs": [],
   "source": []
  }
 ],
 "metadata": {
  "jupytext": {
   "formats": "ipynb,auto:light"
  },
  "kernelspec": {
   "display_name": "Python 3 (ipykernel)",
   "language": "python",
   "name": "python3"
  },
  "language_info": {
   "codemirror_mode": {
    "name": "ipython",
    "version": 3
   },
   "file_extension": ".py",
   "mimetype": "text/x-python",
   "name": "python",
   "nbconvert_exporter": "python",
   "pygments_lexer": "ipython3",
   "version": "3.10.8"
  }
 },
 "nbformat": 4,
 "nbformat_minor": 5
}
