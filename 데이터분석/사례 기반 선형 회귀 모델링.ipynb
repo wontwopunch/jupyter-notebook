{
 "cells": [
  {
   "cell_type": "code",
   "execution_count": 2,
   "id": "fa110adc",
   "metadata": {},
   "outputs": [],
   "source": [
    "import pandas as pd"
   ]
  },
  {
   "cell_type": "code",
   "execution_count": 3,
   "id": "f85e6d39",
   "metadata": {},
   "outputs": [],
   "source": [
    "df = pd.read_csv(\"국민건강보험공단_건강검진정보_20221231.csv\", encoding='cp949')"
   ]
  },
  {
   "cell_type": "code",
   "execution_count": 4,
   "id": "8c4e8dec",
   "metadata": {},
   "outputs": [],
   "source": [
    "pd.set_option('display.max_columns', None) # display 옵션으로 전체 열 확장"
   ]
  },
  {
   "cell_type": "code",
   "execution_count": 5,
   "id": "57a22141",
   "metadata": {},
   "outputs": [
    {
     "data": {
      "text/html": [
       "<div>\n",
       "<style scoped>\n",
       "    .dataframe tbody tr th:only-of-type {\n",
       "        vertical-align: middle;\n",
       "    }\n",
       "\n",
       "    .dataframe tbody tr th {\n",
       "        vertical-align: top;\n",
       "    }\n",
       "\n",
       "    .dataframe thead th {\n",
       "        text-align: right;\n",
       "    }\n",
       "</style>\n",
       "<table border=\"1\" class=\"dataframe\">\n",
       "  <thead>\n",
       "    <tr style=\"text-align: right;\">\n",
       "      <th></th>\n",
       "      <th>기준년도</th>\n",
       "      <th>가입자일련번호</th>\n",
       "      <th>시도코드</th>\n",
       "      <th>성별</th>\n",
       "      <th>연령대코드(5세단위)</th>\n",
       "      <th>신장(5cm단위)</th>\n",
       "      <th>체중(5kg단위)</th>\n",
       "      <th>허리둘레</th>\n",
       "      <th>시력(좌)</th>\n",
       "      <th>시력(우)</th>\n",
       "      <th>청력(좌)</th>\n",
       "      <th>청력(우)</th>\n",
       "      <th>수축기혈압</th>\n",
       "      <th>이완기혈압</th>\n",
       "      <th>식전혈당(공복혈당)</th>\n",
       "      <th>총콜레스테롤</th>\n",
       "      <th>트리글리세라이드</th>\n",
       "      <th>HDL콜레스테롤</th>\n",
       "      <th>LDL콜레스테롤</th>\n",
       "      <th>혈색소</th>\n",
       "      <th>요단백</th>\n",
       "      <th>혈청크레아티닌</th>\n",
       "      <th>혈청지오티(AST)</th>\n",
       "      <th>혈청지피티(ALT)</th>\n",
       "      <th>감마지티피</th>\n",
       "      <th>흡연상태</th>\n",
       "      <th>음주여부</th>\n",
       "      <th>구강검진수검여부</th>\n",
       "      <th>치아우식증유무</th>\n",
       "      <th>치석</th>\n",
       "    </tr>\n",
       "  </thead>\n",
       "  <tbody>\n",
       "    <tr>\n",
       "      <th>0</th>\n",
       "      <td>2022</td>\n",
       "      <td>702763</td>\n",
       "      <td>41</td>\n",
       "      <td>2</td>\n",
       "      <td>14</td>\n",
       "      <td>160</td>\n",
       "      <td>75</td>\n",
       "      <td>89.0</td>\n",
       "      <td>1.0</td>\n",
       "      <td>1.0</td>\n",
       "      <td>1.0</td>\n",
       "      <td>1.0</td>\n",
       "      <td>127.0</td>\n",
       "      <td>73.0</td>\n",
       "      <td>84.0</td>\n",
       "      <td>NaN</td>\n",
       "      <td>NaN</td>\n",
       "      <td>NaN</td>\n",
       "      <td>NaN</td>\n",
       "      <td>14.8</td>\n",
       "      <td>1.0</td>\n",
       "      <td>0.8</td>\n",
       "      <td>25.0</td>\n",
       "      <td>20.0</td>\n",
       "      <td>15.0</td>\n",
       "      <td>1.0</td>\n",
       "      <td>0.0</td>\n",
       "      <td>0</td>\n",
       "      <td>NaN</td>\n",
       "      <td>NaN</td>\n",
       "    </tr>\n",
       "    <tr>\n",
       "      <th>1</th>\n",
       "      <td>2022</td>\n",
       "      <td>765435</td>\n",
       "      <td>41</td>\n",
       "      <td>2</td>\n",
       "      <td>9</td>\n",
       "      <td>150</td>\n",
       "      <td>45</td>\n",
       "      <td>68.0</td>\n",
       "      <td>1.0</td>\n",
       "      <td>1.0</td>\n",
       "      <td>1.0</td>\n",
       "      <td>1.0</td>\n",
       "      <td>127.0</td>\n",
       "      <td>75.0</td>\n",
       "      <td>85.0</td>\n",
       "      <td>NaN</td>\n",
       "      <td>NaN</td>\n",
       "      <td>NaN</td>\n",
       "      <td>NaN</td>\n",
       "      <td>13.1</td>\n",
       "      <td>1.0</td>\n",
       "      <td>0.8</td>\n",
       "      <td>19.0</td>\n",
       "      <td>10.0</td>\n",
       "      <td>7.0</td>\n",
       "      <td>1.0</td>\n",
       "      <td>1.0</td>\n",
       "      <td>0</td>\n",
       "      <td>NaN</td>\n",
       "      <td>NaN</td>\n",
       "    </tr>\n",
       "    <tr>\n",
       "      <th>2</th>\n",
       "      <td>2022</td>\n",
       "      <td>343621</td>\n",
       "      <td>41</td>\n",
       "      <td>2</td>\n",
       "      <td>13</td>\n",
       "      <td>150</td>\n",
       "      <td>60</td>\n",
       "      <td>78.8</td>\n",
       "      <td>1.0</td>\n",
       "      <td>1.0</td>\n",
       "      <td>1.0</td>\n",
       "      <td>1.0</td>\n",
       "      <td>135.0</td>\n",
       "      <td>81.0</td>\n",
       "      <td>105.0</td>\n",
       "      <td>NaN</td>\n",
       "      <td>NaN</td>\n",
       "      <td>NaN</td>\n",
       "      <td>NaN</td>\n",
       "      <td>13.0</td>\n",
       "      <td>1.0</td>\n",
       "      <td>0.8</td>\n",
       "      <td>17.0</td>\n",
       "      <td>15.0</td>\n",
       "      <td>15.0</td>\n",
       "      <td>1.0</td>\n",
       "      <td>1.0</td>\n",
       "      <td>0</td>\n",
       "      <td>NaN</td>\n",
       "      <td>NaN</td>\n",
       "    </tr>\n",
       "    <tr>\n",
       "      <th>3</th>\n",
       "      <td>2022</td>\n",
       "      <td>3393534</td>\n",
       "      <td>41</td>\n",
       "      <td>2</td>\n",
       "      <td>6</td>\n",
       "      <td>160</td>\n",
       "      <td>50</td>\n",
       "      <td>69.0</td>\n",
       "      <td>1.0</td>\n",
       "      <td>1.0</td>\n",
       "      <td>1.0</td>\n",
       "      <td>1.0</td>\n",
       "      <td>109.0</td>\n",
       "      <td>70.0</td>\n",
       "      <td>81.0</td>\n",
       "      <td>NaN</td>\n",
       "      <td>NaN</td>\n",
       "      <td>NaN</td>\n",
       "      <td>NaN</td>\n",
       "      <td>13.4</td>\n",
       "      <td>1.0</td>\n",
       "      <td>0.8</td>\n",
       "      <td>25.0</td>\n",
       "      <td>16.0</td>\n",
       "      <td>13.0</td>\n",
       "      <td>1.0</td>\n",
       "      <td>1.0</td>\n",
       "      <td>0</td>\n",
       "      <td>NaN</td>\n",
       "      <td>NaN</td>\n",
       "    </tr>\n",
       "    <tr>\n",
       "      <th>4</th>\n",
       "      <td>2022</td>\n",
       "      <td>1716951</td>\n",
       "      <td>41</td>\n",
       "      <td>2</td>\n",
       "      <td>7</td>\n",
       "      <td>160</td>\n",
       "      <td>55</td>\n",
       "      <td>75.0</td>\n",
       "      <td>1.0</td>\n",
       "      <td>1.0</td>\n",
       "      <td>1.0</td>\n",
       "      <td>1.0</td>\n",
       "      <td>110.0</td>\n",
       "      <td>67.0</td>\n",
       "      <td>79.0</td>\n",
       "      <td>NaN</td>\n",
       "      <td>NaN</td>\n",
       "      <td>NaN</td>\n",
       "      <td>NaN</td>\n",
       "      <td>14.7</td>\n",
       "      <td>1.0</td>\n",
       "      <td>0.8</td>\n",
       "      <td>22.0</td>\n",
       "      <td>22.0</td>\n",
       "      <td>15.0</td>\n",
       "      <td>1.0</td>\n",
       "      <td>1.0</td>\n",
       "      <td>0</td>\n",
       "      <td>NaN</td>\n",
       "      <td>NaN</td>\n",
       "    </tr>\n",
       "  </tbody>\n",
       "</table>\n",
       "</div>"
      ],
      "text/plain": [
       "   기준년도  가입자일련번호  시도코드  성별  연령대코드(5세단위)  신장(5cm단위)  체중(5kg단위)  허리둘레  시력(좌)  \\\n",
       "0  2022   702763    41   2           14        160         75  89.0    1.0   \n",
       "1  2022   765435    41   2            9        150         45  68.0    1.0   \n",
       "2  2022   343621    41   2           13        150         60  78.8    1.0   \n",
       "3  2022  3393534    41   2            6        160         50  69.0    1.0   \n",
       "4  2022  1716951    41   2            7        160         55  75.0    1.0   \n",
       "\n",
       "   시력(우)  청력(좌)  청력(우)  수축기혈압  이완기혈압  식전혈당(공복혈당)  총콜레스테롤  트리글리세라이드  HDL콜레스테롤  \\\n",
       "0    1.0    1.0    1.0  127.0   73.0        84.0     NaN       NaN       NaN   \n",
       "1    1.0    1.0    1.0  127.0   75.0        85.0     NaN       NaN       NaN   \n",
       "2    1.0    1.0    1.0  135.0   81.0       105.0     NaN       NaN       NaN   \n",
       "3    1.0    1.0    1.0  109.0   70.0        81.0     NaN       NaN       NaN   \n",
       "4    1.0    1.0    1.0  110.0   67.0        79.0     NaN       NaN       NaN   \n",
       "\n",
       "   LDL콜레스테롤   혈색소  요단백  혈청크레아티닌  혈청지오티(AST)  혈청지피티(ALT)  감마지티피  흡연상태  음주여부  \\\n",
       "0       NaN  14.8  1.0      0.8        25.0        20.0   15.0   1.0   0.0   \n",
       "1       NaN  13.1  1.0      0.8        19.0        10.0    7.0   1.0   1.0   \n",
       "2       NaN  13.0  1.0      0.8        17.0        15.0   15.0   1.0   1.0   \n",
       "3       NaN  13.4  1.0      0.8        25.0        16.0   13.0   1.0   1.0   \n",
       "4       NaN  14.7  1.0      0.8        22.0        22.0   15.0   1.0   1.0   \n",
       "\n",
       "   구강검진수검여부  치아우식증유무  치석  \n",
       "0         0      NaN NaN  \n",
       "1         0      NaN NaN  \n",
       "2         0      NaN NaN  \n",
       "3         0      NaN NaN  \n",
       "4         0      NaN NaN  "
      ]
     },
     "execution_count": 5,
     "metadata": {},
     "output_type": "execute_result"
    }
   ],
   "source": [
    "df.head()"
   ]
  },
  {
   "cell_type": "code",
   "execution_count": 6,
   "id": "404e3df8",
   "metadata": {},
   "outputs": [],
   "source": [
    "df.drop([\"치아우식증유무\", \"치석\", \"시력(좌)\", \"시력(우)\", \"청력(좌)\", \"청력(우)\", \"구강검진수검여부\"], axis=1, inplace=True)"
   ]
  },
  {
   "cell_type": "code",
   "execution_count": 7,
   "id": "9044330c",
   "metadata": {},
   "outputs": [
    {
     "name": "stdout",
     "output_type": "stream",
     "text": [
      "기준년도 칼럼 확인\n"
     ]
    },
    {
     "data": {
      "text/plain": [
       "기준년도\n",
       "2022    1000000\n",
       "Name: count, dtype: int64"
      ]
     },
     "execution_count": 7,
     "metadata": {},
     "output_type": "execute_result"
    }
   ],
   "source": [
    "print(\"기준년도 칼럼 확인\")\n",
    "df.기준년도.value_counts()"
   ]
  },
  {
   "cell_type": "code",
   "execution_count": 8,
   "id": "c6e34fa4",
   "metadata": {},
   "outputs": [
    {
     "name": "stdout",
     "output_type": "stream",
     "text": [
      "가입자 일련번호 칼럼 확인\n"
     ]
    }
   ],
   "source": [
    "print(\"가입자 일련번호 칼럼 확인\")"
   ]
  },
  {
   "cell_type": "code",
   "execution_count": 10,
   "id": "83209680",
   "metadata": {},
   "outputs": [
    {
     "name": "stdout",
     "output_type": "stream",
     "text": [
      "가입자 일련번호 칼럼 확인\n"
     ]
    },
    {
     "data": {
      "text/plain": [
       "가입자일련번호\n",
       "702763     1\n",
       "3341688    1\n",
       "4871195    1\n",
       "4610838    1\n",
       "3997948    1\n",
       "          ..\n",
       "3308368    1\n",
       "371852     1\n",
       "3479774    1\n",
       "3645306    1\n",
       "4901217    1\n",
       "Name: count, Length: 1000000, dtype: int64"
      ]
     },
     "execution_count": 10,
     "metadata": {},
     "output_type": "execute_result"
    }
   ],
   "source": [
    "print(\"가입자 일련번호 칼럼 확인\")\n",
    "df[\"가입자일련번호\"].value_counts()"
   ]
  },
  {
   "cell_type": "code",
   "execution_count": 12,
   "id": "93ad83ee",
   "metadata": {},
   "outputs": [
    {
     "name": "stdout",
     "output_type": "stream",
     "text": [
      "성별 칼럼 확인\n"
     ]
    },
    {
     "data": {
      "text/plain": [
       "성별\n",
       "1    515301\n",
       "2    484699\n",
       "Name: count, dtype: int64"
      ]
     },
     "execution_count": 12,
     "metadata": {},
     "output_type": "execute_result"
    }
   ],
   "source": [
    "print(\"성별 칼럼 확인\")\n",
    "df.성별.value_counts()"
   ]
  },
  {
   "cell_type": "code",
   "execution_count": 14,
   "id": "168e9804",
   "metadata": {},
   "outputs": [],
   "source": [
    "df.drop([\"기준년도\", \"가입자일련번호\", \"성별\", \"시도코드\"], axis=1, inplace=True)"
   ]
  },
  {
   "cell_type": "code",
   "execution_count": 17,
   "id": "c15c94e5",
   "metadata": {},
   "outputs": [],
   "source": [
    "test=df[df['LDL콜레스테롤'].isnull()]"
   ]
  },
  {
   "cell_type": "code",
   "execution_count": 18,
   "id": "8e7eeb48",
   "metadata": {},
   "outputs": [],
   "source": [
    "train=df.dropna(axis=0)"
   ]
  },
  {
   "cell_type": "code",
   "execution_count": 20,
   "id": "036a674e",
   "metadata": {},
   "outputs": [
    {
     "name": "stdout",
     "output_type": "stream",
     "text": [
      "학습 데이터 확인\n"
     ]
    },
    {
     "data": {
      "text/html": [
       "<div>\n",
       "<style scoped>\n",
       "    .dataframe tbody tr th:only-of-type {\n",
       "        vertical-align: middle;\n",
       "    }\n",
       "\n",
       "    .dataframe tbody tr th {\n",
       "        vertical-align: top;\n",
       "    }\n",
       "\n",
       "    .dataframe thead th {\n",
       "        text-align: right;\n",
       "    }\n",
       "</style>\n",
       "<table border=\"1\" class=\"dataframe\">\n",
       "  <thead>\n",
       "    <tr style=\"text-align: right;\">\n",
       "      <th></th>\n",
       "      <th>연령대코드(5세단위)</th>\n",
       "      <th>신장(5cm단위)</th>\n",
       "      <th>체중(5kg단위)</th>\n",
       "      <th>허리둘레</th>\n",
       "      <th>수축기혈압</th>\n",
       "      <th>이완기혈압</th>\n",
       "      <th>식전혈당(공복혈당)</th>\n",
       "      <th>총콜레스테롤</th>\n",
       "      <th>트리글리세라이드</th>\n",
       "      <th>HDL콜레스테롤</th>\n",
       "      <th>LDL콜레스테롤</th>\n",
       "      <th>혈색소</th>\n",
       "      <th>요단백</th>\n",
       "      <th>혈청크레아티닌</th>\n",
       "      <th>혈청지오티(AST)</th>\n",
       "      <th>혈청지피티(ALT)</th>\n",
       "      <th>감마지티피</th>\n",
       "      <th>흡연상태</th>\n",
       "      <th>음주여부</th>\n",
       "    </tr>\n",
       "  </thead>\n",
       "  <tbody>\n",
       "    <tr>\n",
       "      <th>654336</th>\n",
       "      <td>13</td>\n",
       "      <td>165</td>\n",
       "      <td>60</td>\n",
       "      <td>80.0</td>\n",
       "      <td>118.0</td>\n",
       "      <td>68.0</td>\n",
       "      <td>103.0</td>\n",
       "      <td>243.0</td>\n",
       "      <td>120.0</td>\n",
       "      <td>85.0</td>\n",
       "      <td>134.0</td>\n",
       "      <td>14.0</td>\n",
       "      <td>1.0</td>\n",
       "      <td>1.0</td>\n",
       "      <td>22.0</td>\n",
       "      <td>17.0</td>\n",
       "      <td>34.0</td>\n",
       "      <td>2.0</td>\n",
       "      <td>1.0</td>\n",
       "    </tr>\n",
       "  </tbody>\n",
       "</table>\n",
       "</div>"
      ],
      "text/plain": [
       "        연령대코드(5세단위)  신장(5cm단위)  체중(5kg단위)  허리둘레  수축기혈압  이완기혈압  식전혈당(공복혈당)  \\\n",
       "654336           13        165         60  80.0  118.0   68.0       103.0   \n",
       "\n",
       "        총콜레스테롤  트리글리세라이드  HDL콜레스테롤  LDL콜레스테롤   혈색소  요단백  혈청크레아티닌  혈청지오티(AST)  \\\n",
       "654336   243.0     120.0      85.0     134.0  14.0  1.0      1.0        22.0   \n",
       "\n",
       "        혈청지피티(ALT)  감마지티피  흡연상태  음주여부  \n",
       "654336        17.0   34.0   2.0   1.0  "
      ]
     },
     "execution_count": 20,
     "metadata": {},
     "output_type": "execute_result"
    }
   ],
   "source": [
    "# 학습 데이터 확인하기\n",
    "print(\"학습 데이터 확인\")\n",
    "train.head(1)"
   ]
  },
  {
   "cell_type": "code",
   "execution_count": 25,
   "id": "17d68298",
   "metadata": {},
   "outputs": [
    {
     "name": "stdout",
     "output_type": "stream",
     "text": [
      "학습/검증 데이터 확인\n",
      "(225877, 18) (225877,) (111253, 18) (111253,)\n"
     ]
    }
   ],
   "source": [
    "# 정담데이터 생성하기\n",
    "y = train['LDL콜레스테롤']\n",
    "\n",
    "# 학습데이터 생성하기\n",
    "x = train.drop('LDL콜레스테롤', axis=1)\n",
    "\n",
    "# validation set 추출을 위한 train_test_split 라이브러리 불러오기\n",
    "from sklearn.model_selection import train_test_split\n",
    "\n",
    "# scikit learn 예시 코드 비율대로 불러오기\n",
    "X_train, X_test, y_train, y_test = train_test_split(\n",
    "    x, y, test_size=0.33, random_state=42)\n",
    "\n",
    "# 학습/검증 데이터 확인하기\n",
    "print(\"학습/검증 데이터 확인\")\n",
    "print(X_train.shape, y_train.shape, X_test.shape, y_test.shape)"
   ]
  },
  {
   "cell_type": "code",
   "execution_count": 26,
   "id": "8cf027cb",
   "metadata": {},
   "outputs": [],
   "source": [
    "# 선형 회귀 학습 및 추론하기\n",
    "# 라이브러리 불러오기\n",
    "from sklearn.linear_model import LinearRegression"
   ]
  },
  {
   "cell_type": "code",
   "execution_count": 27,
   "id": "85400a1a",
   "metadata": {},
   "outputs": [],
   "source": [
    "# 모델 생성하기\n",
    "reg = LinearRegression()"
   ]
  },
  {
   "cell_type": "code",
   "execution_count": 28,
   "id": "319add67",
   "metadata": {},
   "outputs": [
    {
     "data": {
      "text/html": [
       "<style>#sk-container-id-1 {color: black;}#sk-container-id-1 pre{padding: 0;}#sk-container-id-1 div.sk-toggleable {background-color: white;}#sk-container-id-1 label.sk-toggleable__label {cursor: pointer;display: block;width: 100%;margin-bottom: 0;padding: 0.3em;box-sizing: border-box;text-align: center;}#sk-container-id-1 label.sk-toggleable__label-arrow:before {content: \"▸\";float: left;margin-right: 0.25em;color: #696969;}#sk-container-id-1 label.sk-toggleable__label-arrow:hover:before {color: black;}#sk-container-id-1 div.sk-estimator:hover label.sk-toggleable__label-arrow:before {color: black;}#sk-container-id-1 div.sk-toggleable__content {max-height: 0;max-width: 0;overflow: hidden;text-align: left;background-color: #f0f8ff;}#sk-container-id-1 div.sk-toggleable__content pre {margin: 0.2em;color: black;border-radius: 0.25em;background-color: #f0f8ff;}#sk-container-id-1 input.sk-toggleable__control:checked~div.sk-toggleable__content {max-height: 200px;max-width: 100%;overflow: auto;}#sk-container-id-1 input.sk-toggleable__control:checked~label.sk-toggleable__label-arrow:before {content: \"▾\";}#sk-container-id-1 div.sk-estimator input.sk-toggleable__control:checked~label.sk-toggleable__label {background-color: #d4ebff;}#sk-container-id-1 div.sk-label input.sk-toggleable__control:checked~label.sk-toggleable__label {background-color: #d4ebff;}#sk-container-id-1 input.sk-hidden--visually {border: 0;clip: rect(1px 1px 1px 1px);clip: rect(1px, 1px, 1px, 1px);height: 1px;margin: -1px;overflow: hidden;padding: 0;position: absolute;width: 1px;}#sk-container-id-1 div.sk-estimator {font-family: monospace;background-color: #f0f8ff;border: 1px dotted black;border-radius: 0.25em;box-sizing: border-box;margin-bottom: 0.5em;}#sk-container-id-1 div.sk-estimator:hover {background-color: #d4ebff;}#sk-container-id-1 div.sk-parallel-item::after {content: \"\";width: 100%;border-bottom: 1px solid gray;flex-grow: 1;}#sk-container-id-1 div.sk-label:hover label.sk-toggleable__label {background-color: #d4ebff;}#sk-container-id-1 div.sk-serial::before {content: \"\";position: absolute;border-left: 1px solid gray;box-sizing: border-box;top: 0;bottom: 0;left: 50%;z-index: 0;}#sk-container-id-1 div.sk-serial {display: flex;flex-direction: column;align-items: center;background-color: white;padding-right: 0.2em;padding-left: 0.2em;position: relative;}#sk-container-id-1 div.sk-item {position: relative;z-index: 1;}#sk-container-id-1 div.sk-parallel {display: flex;align-items: stretch;justify-content: center;background-color: white;position: relative;}#sk-container-id-1 div.sk-item::before, #sk-container-id-1 div.sk-parallel-item::before {content: \"\";position: absolute;border-left: 1px solid gray;box-sizing: border-box;top: 0;bottom: 0;left: 50%;z-index: -1;}#sk-container-id-1 div.sk-parallel-item {display: flex;flex-direction: column;z-index: 1;position: relative;background-color: white;}#sk-container-id-1 div.sk-parallel-item:first-child::after {align-self: flex-end;width: 50%;}#sk-container-id-1 div.sk-parallel-item:last-child::after {align-self: flex-start;width: 50%;}#sk-container-id-1 div.sk-parallel-item:only-child::after {width: 0;}#sk-container-id-1 div.sk-dashed-wrapped {border: 1px dashed gray;margin: 0 0.4em 0.5em 0.4em;box-sizing: border-box;padding-bottom: 0.4em;background-color: white;}#sk-container-id-1 div.sk-label label {font-family: monospace;font-weight: bold;display: inline-block;line-height: 1.2em;}#sk-container-id-1 div.sk-label-container {text-align: center;}#sk-container-id-1 div.sk-container {/* jupyter's `normalize.less` sets `[hidden] { display: none; }` but bootstrap.min.css set `[hidden] { display: none !important; }` so we also need the `!important` here to be able to override the default hidden behavior on the sphinx rendered scikit-learn.org. See: https://github.com/scikit-learn/scikit-learn/issues/21755 */display: inline-block !important;position: relative;}#sk-container-id-1 div.sk-text-repr-fallback {display: none;}</style><div id=\"sk-container-id-1\" class=\"sk-top-container\"><div class=\"sk-text-repr-fallback\"><pre>LinearRegression()</pre><b>In a Jupyter environment, please rerun this cell to show the HTML representation or trust the notebook. <br />On GitHub, the HTML representation is unable to render, please try loading this page with nbviewer.org.</b></div><div class=\"sk-container\" hidden><div class=\"sk-item\"><div class=\"sk-estimator sk-toggleable\"><input class=\"sk-toggleable__control sk-hidden--visually\" id=\"sk-estimator-id-1\" type=\"checkbox\" checked><label for=\"sk-estimator-id-1\" class=\"sk-toggleable__label sk-toggleable__label-arrow\">LinearRegression</label><div class=\"sk-toggleable__content\"><pre>LinearRegression()</pre></div></div></div></div></div>"
      ],
      "text/plain": [
       "LinearRegression()"
      ]
     },
     "execution_count": 28,
     "metadata": {},
     "output_type": "execute_result"
    }
   ],
   "source": [
    "# 학습하기\n",
    "reg.fit(X_train, y_train)"
   ]
  },
  {
   "cell_type": "code",
   "execution_count": 29,
   "id": "d6b0a541",
   "metadata": {},
   "outputs": [
    {
     "name": "stdout",
     "output_type": "stream",
     "text": [
      "기울기 및 절편 확인\n",
      "기울기 확인 coef=[-0.00211547  0.00838286  0.00403974  0.02586561 -0.00362227 -0.00478919\n",
      " -0.00181933  0.98893442 -0.18998983 -0.90963871  0.04906444  0.04162509\n",
      "  0.14300268 -0.00654572  0.00520954 -0.00195242  0.08355305 -0.22383297]\n",
      "절편 확인 intercept=-7.701480658594875\n"
     ]
    }
   ],
   "source": [
    "# 기울기와 절편 확인하기\n",
    "print(f'''기울기 및 절편 확인\n",
    "기울기 확인 coef={reg.coef_}\n",
    "절편 확인 intercept={reg.intercept_}''')"
   ]
  },
  {
   "cell_type": "code",
   "execution_count": 32,
   "id": "ec40b793",
   "metadata": {},
   "outputs": [
    {
     "name": "stdout",
     "output_type": "stream",
     "text": [
      "전체에 대해서 가중치 확인\n",
      "연령대코드(5세단위)=-0.002115473657691447\n",
      "신장(5cm단위)=0.008382856140952974\n",
      "체중(5kg단위)=0.004039744108510795\n",
      "허리둘레=0.02586561239950402\n",
      "수축기혈압=-0.0036222690664527313\n",
      "이완기혈압=-0.004789193384671975\n",
      "식전혈당(공복혈당)=-0.0018193256235433525\n",
      "총콜레스테롤=0.9889344164631629\n",
      "트리글리세라이드=-0.1899898286383979\n",
      "HDL콜레스테롤=-0.909638712598298\n",
      "혈색소=0.04906444369407403\n",
      "요단백=0.04162509002268323\n",
      "혈청크레아티닌=0.14300268237983277\n",
      "혈청지오티(AST)=-0.00654571817264575\n",
      "혈청지피티(ALT)=0.005209544960069489\n",
      "감마지티피=-0.0019524161439547476\n",
      "흡연상태=0.08355304678254054\n",
      "음주여부=-0.22383296735907102\n"
     ]
    }
   ],
   "source": [
    "# 각각 데이터에 대해 가중치(or 회귀계수) 확인하기\n",
    "print(\"전체에 대해서 가중치 확인\")\n",
    "for index, columns in enumerate(X_train.columns):\n",
    "    print(f\"{columns}={reg.coef_[index]}\")"
   ]
  },
  {
   "cell_type": "code",
   "execution_count": 34,
   "id": "5f704054",
   "metadata": {},
   "outputs": [
    {
     "name": "stdout",
     "output_type": "stream",
     "text": [
      "주요 Feature 삭제 전 rmse=4.293\n"
     ]
    }
   ],
   "source": [
    "# 예측을 통한 최종 검증하기\n",
    "# 예측하기\n",
    "y_pred = reg.predict(X_test)\n",
    "\n",
    "# 결과 검증을 위해 MSE 라이브러리 불러오기\n",
    "# 최종적으로는 RMSE 사용하기\n",
    "from sklearn.metrics import mean_squared_error\n",
    "\n",
    "# MSE 라이브러리에서 RMSE는 squared 옵션을 False로 설정하기\n",
    "rmse = mean_squared_error(y_test, y_pred, squared=False)\n",
    "\n",
    "# 주요 Feature 삭제 전 rmse 확인하기\n",
    "print(f'''주요 Feature 삭제 전 rmse={round(rmse,3)}''')"
   ]
  },
  {
   "cell_type": "code",
   "execution_count": 36,
   "id": "e8bd888b",
   "metadata": {},
   "outputs": [
    {
     "data": {
      "text/plain": [
       "Index(['연령대코드(5세단위)', '신장(5cm단위)', '체중(5kg단위)', '허리둘레', '수축기혈압', '이완기혈압',\n",
       "       '식전혈당(공복혈당)', '총콜레스테롤', '트리글리세라이드', 'HDL콜레스테롤', 'LDL콜레스테롤', '혈색소',\n",
       "       '요단백', '혈청크레아티닌', '혈청지오티(AST)', '혈청지피티(ALT)', '감마지티피', '흡연상태', '음주여부'],\n",
       "      dtype='object')"
      ]
     },
     "execution_count": 36,
     "metadata": {},
     "output_type": "execute_result"
    }
   ],
   "source": [
    "# 가중치의 의미 확인하기\n",
    "# 주요 Feature 삭제를 위해 칼럼명 재확인하기\n",
    "train.columns"
   ]
  },
  {
   "cell_type": "code",
   "execution_count": 37,
   "id": "594c6bec",
   "metadata": {},
   "outputs": [],
   "source": [
    "# 주요 Feature 삭제하기\n",
    "x = x.drop(['총콜레스테롤', '트리글리세라이드', 'HDL콜레스테롤'], axis=1)\n",
    "\n",
    "# scikit learn에서 코드 비율대로 불러오기\n",
    "X_train, X_test, y_train, y_test = train_test_split(\n",
    "    x,y,test_size=0.33, random_state=42)"
   ]
  },
  {
   "cell_type": "code",
   "execution_count": 38,
   "id": "4193265f",
   "metadata": {
    "scrolled": true
   },
   "outputs": [
    {
     "name": "stdout",
     "output_type": "stream",
     "text": [
      "coef\n",
      "[-1.50293683 -0.39035452  0.15513633 -0.20859166 -0.20332664  0.40434892\n",
      " -0.13615129  3.43928937 -0.68370857 -2.45956598 -0.08639088  0.06739086\n",
      " -0.01048069 -2.77843294  0.15151187]\n",
      "intercept\n",
      "170.57752870857013\n"
     ]
    }
   ],
   "source": [
    "# 선형 회귀 모델 재학습하기\n",
    "# 선형 회귀 재생성 및 학습하기\n",
    "lr = LinearRegression()\n",
    "lr.fit(X_train,y_train)\n",
    "\n",
    "# 각각 데이터에 대해 가중치(또는 회귀계수) 확인하기\n",
    "print(f'''coef\n",
    "{lr.coef_}\n",
    "intercept\n",
    "{lr.intercept_}''')"
   ]
  },
  {
   "cell_type": "code",
   "execution_count": 39,
   "id": "60cccb95",
   "metadata": {},
   "outputs": [
    {
     "name": "stdout",
     "output_type": "stream",
     "text": [
      "가중치 확인\n",
      "연령대코드(5세단위) = -0.002115473657691447\n",
      "신장(5cm단위) = 0.008382856140952974\n",
      "체중(5kg단위) = 0.004039744108510795\n",
      "허리둘레 = 0.02586561239950402\n",
      "수축기혈압 = -0.0036222690664527313\n",
      "이완기혈압 = -0.004789193384671975\n",
      "식전혈당(공복혈당) = -0.0018193256235433525\n",
      "혈색소 = 0.9889344164631629\n",
      "요단백 = -0.1899898286383979\n",
      "혈청크레아티닌 = -0.909638712598298\n",
      "혈청지오티(AST) = 0.04906444369407403\n",
      "혈청지피티(ALT) = 0.04162509002268323\n",
      "감마지티피 = 0.14300268237983277\n",
      "흡연상태 = -0.00654571817264575\n",
      "음주여부 = 0.005209544960069489\n"
     ]
    }
   ],
   "source": [
    "# 가중치 비교하기\n",
    "# 검증 데이터로 예측하기\n",
    "y_pred = lr.predict(X_test)\n",
    "\n",
    "# 각각 데이터에 대해 가중치(또는 회귀계수) 확인하기\n",
    "print(\"가중치 확인\")\n",
    "for index, columns in enumerate(X_train.columns):\n",
    "    print(f\"{columns} = {reg.coef_[index]}\")"
   ]
  },
  {
   "cell_type": "code",
   "execution_count": 40,
   "id": "b8d1b353",
   "metadata": {},
   "outputs": [
    {
     "name": "stdout",
     "output_type": "stream",
     "text": [
      "주요 Feature 삭제 후 rmse = 37.185\n"
     ]
    }
   ],
   "source": [
    "# 주요 Feature 삭제 후 RMSE 확인하기\n",
    "rmse_2 = mean_squared_error(y_test, y_pred, squared=False)\n",
    "\n",
    "# 가중치가 큰 특성을 삭제했을 때 영향을 많이 받는지 확인하기\n",
    "print(f'''주요 Feature 삭제 후 rmse = {round(rmse_2,3)}''')"
   ]
  },
  {
   "cell_type": "code",
   "execution_count": 41,
   "id": "06b5ce1c",
   "metadata": {},
   "outputs": [],
   "source": [
    "# Feature의 존재 여부에 따라 rmse의 값이 매우 크게 차이남\n",
    "# 선형성이 있기에 절편과 기울기를 확인하여 모델에 대해 어떤 Reature가 얼마나 영향을 주었는지 확인 가능"
   ]
  },
  {
   "cell_type": "code",
   "execution_count": null,
   "id": "f203ed99",
   "metadata": {},
   "outputs": [],
   "source": []
  }
 ],
 "metadata": {
  "kernelspec": {
   "display_name": "Python 3 (ipykernel)",
   "language": "python",
   "name": "python3"
  },
  "language_info": {
   "codemirror_mode": {
    "name": "ipython",
    "version": 3
   },
   "file_extension": ".py",
   "mimetype": "text/x-python",
   "name": "python",
   "nbconvert_exporter": "python",
   "pygments_lexer": "ipython3",
   "version": "3.11.5"
  }
 },
 "nbformat": 4,
 "nbformat_minor": 5
}
