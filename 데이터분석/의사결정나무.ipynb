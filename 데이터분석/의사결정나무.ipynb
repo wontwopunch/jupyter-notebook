{
 "cells": [
  {
   "cell_type": "code",
   "execution_count": 6,
   "id": "15a613af",
   "metadata": {},
   "outputs": [],
   "source": [
    "import numpy as np\n",
    "import pandas as pd\n",
    "from sklearn.model_selection import train_test_split"
   ]
  },
  {
   "cell_type": "code",
   "execution_count": 7,
   "id": "68d6ecf0",
   "metadata": {},
   "outputs": [],
   "source": [
    "df = pd.read_csv(\"국민건강보험공단_건강검진정보_20221231.CSV\", encoding='cp949')"
   ]
  },
  {
   "cell_type": "code",
   "execution_count": 6,
   "id": "ad310031",
   "metadata": {},
   "outputs": [
    {
     "data": {
      "text/plain": [
       "Index(['기준년도', '가입자일련번호', '시도코드', '성별', '연령대코드(5세단위)', '신장(5cm단위)',\n",
       "       '체중(5kg단위)', '허리둘레', '시력(좌)', '시력(우)', '청력(좌)', '청력(우)', '수축기혈압',\n",
       "       '이완기혈압', '식전혈당(공복혈당)', '총콜레스테롤', '트리글리세라이드', 'HDL콜레스테롤', 'LDL콜레스테롤',\n",
       "       '혈색소', '요단백', '혈청크레아티닌', '혈청지오티(AST)', '혈청지피티(ALT)', '감마지티피', '흡연상태',\n",
       "       '음주여부', '구강검진수검여부', '치아우식증유무', '치석'],\n",
       "      dtype='object')"
      ]
     },
     "execution_count": 6,
     "metadata": {},
     "output_type": "execute_result"
    }
   ],
   "source": [
    "df.columns"
   ]
  },
  {
   "cell_type": "code",
   "execution_count": 8,
   "id": "9a13d98d",
   "metadata": {},
   "outputs": [],
   "source": [
    "sample_df=df[['신장(5cm단위)', '성별', '체중(5kg단위)', '음주여부']]"
   ]
  },
  {
   "cell_type": "code",
   "execution_count": 9,
   "id": "02cc4249",
   "metadata": {},
   "outputs": [
    {
     "data": {
      "text/html": [
       "<div>\n",
       "<style scoped>\n",
       "    .dataframe tbody tr th:only-of-type {\n",
       "        vertical-align: middle;\n",
       "    }\n",
       "\n",
       "    .dataframe tbody tr th {\n",
       "        vertical-align: top;\n",
       "    }\n",
       "\n",
       "    .dataframe thead th {\n",
       "        text-align: right;\n",
       "    }\n",
       "</style>\n",
       "<table border=\"1\" class=\"dataframe\">\n",
       "  <thead>\n",
       "    <tr style=\"text-align: right;\">\n",
       "      <th></th>\n",
       "      <th>신장(5cm단위)</th>\n",
       "      <th>성별</th>\n",
       "      <th>체중(5kg단위)</th>\n",
       "      <th>음주여부</th>\n",
       "    </tr>\n",
       "  </thead>\n",
       "  <tbody>\n",
       "    <tr>\n",
       "      <th>0</th>\n",
       "      <td>160</td>\n",
       "      <td>2</td>\n",
       "      <td>75</td>\n",
       "      <td>0.0</td>\n",
       "    </tr>\n",
       "    <tr>\n",
       "      <th>1</th>\n",
       "      <td>150</td>\n",
       "      <td>2</td>\n",
       "      <td>45</td>\n",
       "      <td>1.0</td>\n",
       "    </tr>\n",
       "    <tr>\n",
       "      <th>2</th>\n",
       "      <td>150</td>\n",
       "      <td>2</td>\n",
       "      <td>60</td>\n",
       "      <td>1.0</td>\n",
       "    </tr>\n",
       "    <tr>\n",
       "      <th>3</th>\n",
       "      <td>160</td>\n",
       "      <td>2</td>\n",
       "      <td>50</td>\n",
       "      <td>1.0</td>\n",
       "    </tr>\n",
       "    <tr>\n",
       "      <th>4</th>\n",
       "      <td>160</td>\n",
       "      <td>2</td>\n",
       "      <td>55</td>\n",
       "      <td>1.0</td>\n",
       "    </tr>\n",
       "    <tr>\n",
       "      <th>5</th>\n",
       "      <td>170</td>\n",
       "      <td>1</td>\n",
       "      <td>85</td>\n",
       "      <td>1.0</td>\n",
       "    </tr>\n",
       "    <tr>\n",
       "      <th>6</th>\n",
       "      <td>160</td>\n",
       "      <td>2</td>\n",
       "      <td>40</td>\n",
       "      <td>1.0</td>\n",
       "    </tr>\n",
       "    <tr>\n",
       "      <th>7</th>\n",
       "      <td>180</td>\n",
       "      <td>1</td>\n",
       "      <td>65</td>\n",
       "      <td>1.0</td>\n",
       "    </tr>\n",
       "    <tr>\n",
       "      <th>8</th>\n",
       "      <td>155</td>\n",
       "      <td>2</td>\n",
       "      <td>50</td>\n",
       "      <td>1.0</td>\n",
       "    </tr>\n",
       "    <tr>\n",
       "      <th>9</th>\n",
       "      <td>165</td>\n",
       "      <td>2</td>\n",
       "      <td>55</td>\n",
       "      <td>1.0</td>\n",
       "    </tr>\n",
       "  </tbody>\n",
       "</table>\n",
       "</div>"
      ],
      "text/plain": [
       "   신장(5cm단위)  성별  체중(5kg단위)  음주여부\n",
       "0        160   2         75   0.0\n",
       "1        150   2         45   1.0\n",
       "2        150   2         60   1.0\n",
       "3        160   2         50   1.0\n",
       "4        160   2         55   1.0\n",
       "5        170   1         85   1.0\n",
       "6        160   2         40   1.0\n",
       "7        180   1         65   1.0\n",
       "8        155   2         50   1.0\n",
       "9        165   2         55   1.0"
      ]
     },
     "execution_count": 9,
     "metadata": {},
     "output_type": "execute_result"
    }
   ],
   "source": [
    "sample_df[:10]"
   ]
  },
  {
   "cell_type": "code",
   "execution_count": 10,
   "id": "689b1b4b",
   "metadata": {},
   "outputs": [
    {
     "name": "stdout",
     "output_type": "stream",
     "text": [
      "Info 정보 확인\n",
      "<class 'pandas.core.frame.DataFrame'>\n",
      "RangeIndex: 1000000 entries, 0 to 999999\n",
      "Data columns (total 4 columns):\n",
      " #   Column     Non-Null Count    Dtype  \n",
      "---  ------     --------------    -----  \n",
      " 0   신장(5cm단위)  1000000 non-null  int64  \n",
      " 1   성별         1000000 non-null  int64  \n",
      " 2   체중(5kg단위)  1000000 non-null  int64  \n",
      " 3   음주여부       999927 non-null   float64\n",
      "dtypes: float64(1), int64(3)\n",
      "memory usage: 30.5 MB\n"
     ]
    }
   ],
   "source": [
    "# info 정보로 결측치 확인\n",
    "print(\"Info 정보 확인\")\n",
    "sample_df.info()"
   ]
  },
  {
   "cell_type": "code",
   "execution_count": 12,
   "id": "7064503e",
   "metadata": {},
   "outputs": [],
   "source": [
    "sample = sample_df.dropna()"
   ]
  },
  {
   "cell_type": "code",
   "execution_count": 13,
   "id": "b37fdfa6",
   "metadata": {},
   "outputs": [
    {
     "name": "stdout",
     "output_type": "stream",
     "text": [
      "Drop 후 Info 정보 확인\n",
      "<class 'pandas.core.frame.DataFrame'>\n",
      "Index: 999927 entries, 0 to 999999\n",
      "Data columns (total 4 columns):\n",
      " #   Column     Non-Null Count   Dtype  \n",
      "---  ------     --------------   -----  \n",
      " 0   신장(5cm단위)  999927 non-null  int64  \n",
      " 1   성별         999927 non-null  int64  \n",
      " 2   체중(5kg단위)  999927 non-null  int64  \n",
      " 3   음주여부       999927 non-null  float64\n",
      "dtypes: float64(1), int64(3)\n",
      "memory usage: 38.1 MB\n"
     ]
    }
   ],
   "source": [
    "print(\"Drop 후 Info 정보 확인\")\n",
    "sample.info()"
   ]
  },
  {
   "cell_type": "code",
   "execution_count": 15,
   "id": "f75d3a71",
   "metadata": {},
   "outputs": [
    {
     "data": {
      "text/plain": [
       "음주여부\n",
       "1.0    655146\n",
       "0.0    344781\n",
       "Name: count, dtype: int64"
      ]
     },
     "execution_count": 15,
     "metadata": {},
     "output_type": "execute_result"
    }
   ],
   "source": [
    "# 원핫 인코딩을 위해 데이터 object 형태로 변경하기\n",
    "sample = sample.astype('str')\n",
    "\n",
    "# label(결과,Y) 생성하기\n",
    "y = sample.음주여부\n",
    "\n",
    "# 음주여부 학습 데이터 구성하기\n",
    "X = sample.drop('음주여부', axis=1)\n",
    "\n",
    "# label 데이터의 편향성 확인하기\n",
    "y.value_counts()"
   ]
  },
  {
   "cell_type": "code",
   "execution_count": 16,
   "id": "fe127a7e",
   "metadata": {},
   "outputs": [],
   "source": [
    "# 학습/검증 데이터 분리하기\n",
    "x_train, x_valid, y_train, y_valid = train_test_split(\n",
    "    X, y,\n",
    "    test_size=0.2,\n",
    "    shuffle=True,\n",
    "    random_state=34\n",
    ")"
   ]
  },
  {
   "cell_type": "code",
   "execution_count": 17,
   "id": "43da131b",
   "metadata": {},
   "outputs": [],
   "source": [
    "# 의사결정나무 모델 불러오기\n",
    "from sklearn.tree import DecisionTreeClassifier"
   ]
  },
  {
   "cell_type": "code",
   "execution_count": 18,
   "id": "39fbd408",
   "metadata": {},
   "outputs": [],
   "source": [
    "# 의사결정나무 모델 생성하기\n",
    "dt = DecisionTreeClassifier(random_state=1001, max_depth=2)"
   ]
  },
  {
   "cell_type": "code",
   "execution_count": 19,
   "id": "1faa516b",
   "metadata": {},
   "outputs": [
    {
     "name": "stdout",
     "output_type": "stream",
     "text": [
      "학습 정확도= 0.6985977715856544\n",
      "검증 정확도= 0.7003840268818817\n"
     ]
    }
   ],
   "source": [
    "# 의사결정나무 학습하기\n",
    "dt_model = dt.fit(x_train, y_train)\n",
    "\n",
    "# 학습 데이터 정확도 확인하기\n",
    "print(\"학습 정확도=\", dt_model.score(x_train, y_train))\n",
    "\n",
    "# 검증 데이터 정확도 확인하기\n",
    "print(\"검증 정확도=\", dt_model.score(x_valid, y_valid))"
   ]
  },
  {
   "cell_type": "code",
   "execution_count": 4,
   "id": "662fb4f8",
   "metadata": {},
   "outputs": [
    {
     "name": "stdout",
     "output_type": "stream",
     "text": [
      "Requirement already satisfied: graphviz in c:\\users\\jiwon\\anaconda3\\lib\\site-packages (0.20.3)\n"
     ]
    }
   ],
   "source": [
    "!pip install graphviz"
   ]
  },
  {
   "cell_type": "code",
   "execution_count": 20,
   "id": "2518f8d4",
   "metadata": {},
   "outputs": [],
   "source": [
    "import matplotlib.pyplot as plt\n",
    "import graphviz\n",
    "from sklearn.tree import export_graphviz"
   ]
  },
  {
   "cell_type": "code",
   "execution_count": 23,
   "id": "4a92b4da",
   "metadata": {},
   "outputs": [
    {
     "data": {
      "text/plain": [
       "'tree_depth5.png'"
      ]
     },
     "execution_count": 23,
     "metadata": {},
     "output_type": "execute_result"
    }
   ],
   "source": [
    "# 의사결정나무 그래프 그리기\n",
    "# 그래프 생성하기\n",
    "# 에러발생 사이트 참조: https://highschoolfree.tistory.com/76\n",
    "tree_graph = graphviz.Source(export_graphviz(dt_model,\n",
    "                                            class_names=[\"X\",\"O\"],\n",
    "                                            feature_names=['height', 'sex', 'weight'],\n",
    "                                            impurity=True, # 불순도 표시 여부\n",
    "                                            filled=True)) # 각 노드의 색상을 클래스에 따라 다르게 채울지 여부\n",
    "# 그래프 출력\n",
    "tree_graph\n",
    "\n",
    "# 그래프의 각 노드는 노드 분할 조건, 불순도, 각 클래스에 속한 샘플 수, 노드가 속하는 클래스 포함\n",
    "\n",
    "# 그래프 파일 저장하기\n",
    "tree_graph.render('tree_depth5', format=\"png\")"
   ]
  },
  {
   "cell_type": "code",
   "execution_count": null,
   "id": "89ca346c",
   "metadata": {},
   "outputs": [],
   "source": [
    "# 노드 맨 첫 줄에 나오는 분할 조건은 자식 노드를 만들기 위한 규칙 조건\n",
    "# 두 번째 줄의 지니계수는 불순도 지표\n",
    "# 의사결정나무는 이 지니계수를 낮추는 방향으로 가지를 분할"
   ]
  },
  {
   "cell_type": "code",
   "execution_count": 25,
   "id": "fcf39bed",
   "metadata": {},
   "outputs": [
    {
     "name": "stdout",
     "output_type": "stream",
     "text": [
      "0.0\n",
      "0.642\n",
      "0.642\n"
     ]
    }
   ],
   "source": [
    "# 불순도 알아보기\n",
    "# 불순도 함수 생성하기\n",
    "def gini(x):\n",
    "    n=x.sum()\n",
    "    gini_sum=0\n",
    "    for key in x.keys():\n",
    "        gini_sum=gini_sum+(x[key]/n) * (x[key]/n)\n",
    "    gini=1-gini_sum\n",
    "    return gini\n",
    "\n",
    "# 데이터 준비하기(불순도 예시)\n",
    "과일바구니1 = ['사과']*9\n",
    "과일바구니2 = ['사과', '바나나', '사과', '바나나', '바나나', '바나나', '복숭아', '복숭아', '복숭아']\n",
    "과일바구니3 = ['사과', '바나나', '사과', '바나나', '사과', '복숭아', '복숭아', '사과', '복숭아']\n",
    "print(round(gini(pd.DataFrame(과일바구니1).value_counts()),3))\n",
    "print(round(gini(pd.DataFrame(과일바구니2).value_counts()),3))\n",
    "print(round(gini(pd.DataFrame(과일바구니3).value_counts()),3))"
   ]
  },
  {
   "cell_type": "code",
   "execution_count": null,
   "id": "998d14a7",
   "metadata": {},
   "outputs": [],
   "source": [
    "# 의사결정나무는 지니계수와 같은 불순도 지표를 기반으로 각 노드에서 불순도를 최소화하는 최적의 분할 조건을 구하며 데이터를 학습"
   ]
  }
 ],
 "metadata": {
  "kernelspec": {
   "display_name": "Python 3 (ipykernel)",
   "language": "python",
   "name": "python3"
  },
  "language_info": {
   "codemirror_mode": {
    "name": "ipython",
    "version": 3
   },
   "file_extension": ".py",
   "mimetype": "text/x-python",
   "name": "python",
   "nbconvert_exporter": "python",
   "pygments_lexer": "ipython3",
   "version": "3.11.5"
  }
 },
 "nbformat": 4,
 "nbformat_minor": 5
}
