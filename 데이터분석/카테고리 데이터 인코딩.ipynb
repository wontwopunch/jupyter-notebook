{
 "cells": [
  {
   "cell_type": "code",
   "execution_count": 33,
   "id": "7eb10600-f4bf-4f40-88e6-53d9970867d4",
   "metadata": {},
   "outputs": [
    {
     "name": "stdout",
     "output_type": "stream",
     "text": [
      "   category_A  category_B  category_C\n",
      "0         1.0         0.0         0.0\n",
      "1         0.0         1.0         0.0\n",
      "2         1.0         0.0         0.0\n",
      "3         0.0         0.0         1.0\n",
      "4         0.0         1.0         0.0\n"
     ]
    }
   ],
   "source": [
    "import pandas as pd\n",
    "from sklearn.preprocessing import OneHotEncoder\n",
    "\n",
    "# 머신러닝 모델은 수치형 데이터를 필요로 하므로, 카테고리형 데이터를 수치형으로 변환 필요\n",
    "# 예제 데이터 생성\n",
    "category_data = pd.DataFrame({\n",
    "    'category': ['A', 'B', 'A', 'C', 'B']\n",
    "})\n",
    "\n",
    "# One-Hot Encoding\n",
    "# OneHotEncoder 객체 생성\n",
    "encoder = OneHotEncoder()\n",
    "\n",
    "# fit_transform 메서드를 사용하여 카테고리형 데이터를 인코딩하고, 밀집 배열로 반환\n",
    "encoded_data = encoder.fit_transform(category_data[['category']]).toarray()\n",
    "\n",
    "# 인코딩된 데이터를 데이터프레임으로 변환\n",
    "encoded_df = pd.DataFrame(encoded_data, columns=encoder.get_feature_names_out(['category']))\n",
    "\n",
    "print(encoded_df)\n",
    "\n",
    "# 해당 카테고리 해당1, 그렇지 않으면 0"
   ]
  },
  {
   "cell_type": "code",
   "execution_count": 31,
   "id": "804f9908-0d59-43f9-a249-87240826880a",
   "metadata": {},
   "outputs": [
    {
     "name": "stdout",
     "output_type": "stream",
     "text": [
      "  category  category_encoded\n",
      "0        A                 0\n",
      "1        B                 1\n",
      "2        A                 0\n",
      "3        C                 2\n",
      "4        B                 1\n"
     ]
    }
   ],
   "source": [
    "from sklearn.preprocessing import LabelEncoder\n",
    "\n",
    "# Label Encoding\n",
    "label_encoder = LabelEncoder()\n",
    "category_data['category_encoded'] = label_encoder.fit_transform(category_data['category'])\n",
    "print(category_data)"
   ]
  },
  {
   "cell_type": "code",
   "execution_count": null,
   "id": "d1bf73f8-36eb-4be5-93d5-ace0dee196bd",
   "metadata": {},
   "outputs": [],
   "source": []
  }
 ],
 "metadata": {
  "kernelspec": {
   "display_name": "Python 3 (ipykernel)",
   "language": "python",
   "name": "python3"
  },
  "language_info": {
   "codemirror_mode": {
    "name": "ipython",
    "version": 3
   },
   "file_extension": ".py",
   "mimetype": "text/x-python",
   "name": "python",
   "nbconvert_exporter": "python",
   "pygments_lexer": "ipython3",
   "version": "3.10.8"
  }
 },
 "nbformat": 4,
 "nbformat_minor": 5
}
